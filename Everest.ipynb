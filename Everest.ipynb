{
  "nbformat": 4,
  "nbformat_minor": 0,
  "metadata": {
    "colab": {
      "name": "Copy of Untitled1.ipynb",
      "provenance": [],
      "authorship_tag": "ABX9TyO9NU93hDz3qZAnDxAaPCJp",
      "include_colab_link": true
    },
    "kernelspec": {
      "name": "python3",
      "display_name": "Python 3"
    }
  },
  "cells": [
    {
      "cell_type": "markdown",
      "metadata": {
        "id": "view-in-github",
        "colab_type": "text"
      },
      "source": [
        "<a href=\"https://colab.research.google.com/github/SGraybill/GEOG456/blob/main/Everest.ipynb\" target=\"_parent\"><img src=\"https://colab.research.google.com/assets/colab-badge.svg\" alt=\"Open In Colab\"/></a>"
      ]
    },
    {
      "cell_type": "code",
      "metadata": {
        "id": "9c_T7cqfXTyb"
      },
      "source": [
        "import matplotlib.pyplot as plt\r\n",
        "from skimage.exposure import match_histograms\r\n",
        "from skimage import io\r\n"
      ],
      "execution_count": null,
      "outputs": []
    },
    {
      "cell_type": "code",
      "metadata": {
        "id": "0LwaW2jBXWJf"
      },
      "source": [
        "src = io.imread(\"/content/Chapel_Hill_1946.jpg\")\r\n",
        "ref = io.imread(\"/content/Chapel_Hill_1978.jpg\")\r\n",
        "src2 = io.imread(\"/content/Chapel_Hill_2019.jpg\")\r\n",
        "\r\n",
        "matched = match_histograms(src, ref, multichannel=True)\r\n",
        "matched2 = match_histograms(src2, ref, multichannel=True)\r\n"
      ],
      "execution_count": null,
      "outputs": []
    },
    {
      "cell_type": "code",
      "metadata": {
        "id": "f2YRfcEePXYj"
      },
      "source": [
        "io.imsave('/content/1946match.jpg', matched)\r\n"
      ],
      "execution_count": null,
      "outputs": []
    },
    {
      "cell_type": "code",
      "metadata": {
        "id": "RD7n-eQKRHMi"
      },
      "source": [
        "io.imsave('/content/2019matched.jpg', matched2)"
      ],
      "execution_count": null,
      "outputs": []
    },
    {
      "cell_type": "code",
      "metadata": {
        "id": "sc6UaPibLdnO",
        "colab": {
          "base_uri": "https://localhost:8080/",
          "height": 75
        },
        "outputId": "662f9878-b8dd-4df9-a326-0778a682010f"
      },
      "source": [
        "fig, (ax1, ax2, ax3, ax4, ax5) = plt.subplots(nrows=1, ncols=5, figsize=(8, 3),sharex=True, sharey=True)\r\n",
        "for aa in (ax1, ax2, ax3, ax4, ax5): \r\n",
        "    aa.set_axis_off()\r\n",
        "\r\n",
        "ax1.imshow(src)\r\n",
        "ax1.set_title('Source, Chapel Hill 1946')\r\n",
        "ax2.imshow(ref)\r\n",
        "ax2.set_title('Reference, Chapel Hill 1978')\r\n",
        "ax3.imshow(matched)\r\n",
        "ax3.set_title('1946 and 1978 Matched')\r\n",
        "ax4.imshow(src2)\r\n",
        "ax4.set_title('Source 2, Chapel Hill 2019')\r\n",
        "ax5.imshow(matched2)\r\n",
        "ax5.set_title('1978 and 2019 Matched')\r\n",
        "\r\n",
        "plt.tight_layout()\r\n",
        "plt.show()"
      ],
      "execution_count": null,
      "outputs": [
        {
          "output_type": "display_data",
          "data": {
            "image/png": "[encoded data removed]",
            "text/plain": [
              "<Figure size 576x216 with 5 Axes>"
            ]
          },
          "metadata": {
            "tags": [],
            "needs_background": "light"
          }
        }
      ]
    },
    {
      "cell_type": "code",
      "metadata": {
        "id": "b2Z9qQnjXfrl"
      },
      "source": [
        "fig, axes = plt.subplots(nrows=3, ncols=3, figsize=(8, 8))\r\n",
        "\r\n",
        "\r\n",
        "for i, img in enumerate((src, src2, ref, matched, matched2)):\r\n",
        "    for c, c_color in enumerate(('red', 'green', 'blue')):\r\n",
        "        img_hist, bins = exposure.histogram(img[..., c], source_range='dtype')\r\n",
        "        axes[c, i].plot(bins, img_hist / img_hist.max())\r\n",
        "        img_cdf, bins = exposure.cumulative_distribution(img[..., c])\r\n",
        "        axes[c, i].plot(bins, img_cdf)\r\n",
        "        axes[c, 0].set_ylabel(c_color)\r\n",
        "\r\n",
        "axes[0, 0].set_title('Source')\r\n",
        "axes[]\r\n",
        "axes[0, 1].set_title('Reference')\r\n",
        "axes[0, 2].set_title('Matched')\r\n",
        "\r\n",
        "plt.tight_layout()\r\n",
        "plt.show()"
      ],
      "execution_count": null,
      "outputs": []
    }
  ]
}